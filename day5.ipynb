{
 "cells": [
  {
   "cell_type": "code",
   "execution_count": 1,
   "metadata": {
    "collapsed": true
   },
   "outputs": [],
   "source": [
    "aocinput = \"ugkcyxxp\""
   ]
  },
  {
   "cell_type": "code",
   "execution_count": 2,
   "metadata": {
    "collapsed": false
   },
   "outputs": [
    {
     "name": "stdout",
     "output_type": "stream",
     "text": [
      "found char  d 00000d82520c9edae5aff0c95131fa2f\n",
      "found char  4 0000043e8f3f991deb83a48397ae1e7e\n",
      "found char  c 00000c6ef1f544e7423e5234fc295e2c\n",
      "found char  d 00000db7c2dd1100436ce9ee71df4a6f\n",
      "found char  2 000002c7d4257f42319af0bf3d255eac\n",
      "found char  e 00000e94d4c249f954b637a1dc5eaa67\n",
      "found char  e 00000e1355a341447c1b13967dacdfeb\n",
      "found char  1 0000012e0248931afa8e7a3810442e98\n",
      "d4cd2ee1\n"
     ]
    }
   ],
   "source": [
    "from __future__ import print_function\n",
    "import hashlib\n",
    "res = \"\"\n",
    "i = -1\n",
    "for char in range(0,8):\n",
    "        while True:\n",
    "                i+=1\n",
    "                h = hashlib.md5(aocinput + str(i)).hexdigest()\n",
    "                if h.startswith(\"00000\"):\n",
    "                        print(\"found char \",h[5],h)\n",
    "                        res+=h[5]\n",
    "                        break\n",
    "print(res)"
   ]
  },
  {
   "cell_type": "markdown",
   "metadata": {},
   "source": [
    "## Part 2"
   ]
  },
  {
   "cell_type": "code",
   "execution_count": 9,
   "metadata": {
    "collapsed": false
   },
   "outputs": [
    {
     "name": "stdout",
     "output_type": "stream",
     "text": [
      "found char  3 0000043e8f3f991deb83a48397ae1e7e\n",
      "found char  c 000002c7d4257f42319af0bf3d255eac\n",
      "found char  2 0000012e0248931afa8e7a3810442e98\n",
      "found char  0 0000050aea0f692b0409740c1b7c021b\n",
      "found char  5 00000751932293e0a91438646f8f6117\n",
      "found char  f 000000f59a581a0ab3896663bf5bee0a\n",
      "found char  e 000006e2abaa3d7bff2e8e6a35e078a6\n",
      "found char  7 0000037455348b6f39fa24219c96c6f4\n",
      "f2c730e5\n"
     ]
    }
   ],
   "source": [
    "from __future__ import print_function\n",
    "import hashlib\n",
    "res = [0] * 8\n",
    "aocinput = \"ugkcyxxp\"\n",
    "i = -1\n",
    "while 0 in res:\n",
    "        while True:\n",
    "                i+=1\n",
    "                h = hashlib.md5(aocinput + str(i)).hexdigest()\n",
    "                if h.startswith(\"00000\") and h[5] >= '0' and h[5]  < '8' and res[int(h[5])] == 0:\n",
    "                        print(\"found char \",h[6], h)\n",
    "                        res[int(h[5])] = h[6]\n",
    "                        break\n",
    "print(''.join(res))"
   ]
  }
 ],
 "metadata": {
  "kernelspec": {
   "display_name": "Python 2",
   "language": "python",
   "name": "python2"
  },
  "language_info": {
   "codemirror_mode": {
    "name": "ipython",
    "version": 2
   },
   "file_extension": ".py",
   "mimetype": "text/x-python",
   "name": "python",
   "nbconvert_exporter": "python",
   "pygments_lexer": "ipython2",
   "version": "2.7.6"
  }
 },
 "nbformat": 4,
 "nbformat_minor": 1
}
