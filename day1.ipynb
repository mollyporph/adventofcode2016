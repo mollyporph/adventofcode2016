{
 "cells": [
  {
   "cell_type": "markdown",
   "metadata": {},
   "source": [
    "--- Day 1: No Time for a Taxicab ---\n",
    "Santa's sleigh uses a very high-precision clock to guide its movements, and the clock's oscillator is regulated by stars. Unfortunately, the stars have been stolen... by the Easter Bunny. To save Christmas, Santa needs you to retrieve all fifty stars by December 25th.\n",
    "Collect stars by solving puzzles. Two puzzles will be made available on each day in the advent calendar; the second puzzle is unlocked when you complete the first. Each puzzle grants one star. Good luck!\n",
    "You're airdropped near Easter Bunny Headquarters in a city somewhere. \"Near\", unfortunately, is as close as you can get - the instructions on the Easter Bunny Recruiting Document the Elves intercepted start here, and nobody had time to work them out further.\n",
    "The Document indicates that you should start at the given coordinates (where you just landed) and face North. Then, follow the provided sequence: either turn left (L) or right (R) 90 degrees, then walk forward the given number of blocks, ending at a new intersection.\n",
    "There's no time to follow such ridiculous instructions on foot, though, so you take a moment and work out the destination. Given that you can only walk on the street grid of the city, how far is the shortest path to the destination?\n",
    "For example:\n",
    "Following R2, L3 leaves you 2 blocks East and 3 blocks North, or 5 blocks away. R2, R2, R2 leaves you 2 blocks due South of your starting position, which is 2 blocks away. R5, L5, R5, R3 leaves you 12 blocks away. How many blocks away is Easter Bunny HQ?"
   ]
  },
  {
   "cell_type": "markdown",
   "metadata": {},
   "source": [
    "### Input"
   ]
  },
  {
   "cell_type": "code",
   "execution_count": 59,
   "metadata": {
    "collapsed": true
   },
   "outputs": [],
   "source": [
    "aocinput = \"L4, R2, R4, L5, L3, L1, R4, R5, R1, R3, L3, L2, L2, R5, R1, L1, L2, R2, R2, L5, R5, R5, L2, R1, R2, L2, L4, L1, R5, R2, R1, R1, L2, L3, R2, L5, L186, L5, L3, R3, L5, R4, R2, L5, R1, R4, L1, L3, R3, R1, L1, R4, R2, L1, L4, R5, L1, R50, L4, R3, R78, R4, R2, L4, R3, L4, R4, L1, R5, L4, R1, L2, R3, L2, R5, R5, L4, L1, L2, R185, L5, R2, R1, L3, R4, L5, R2, R4, L3, R4, L2, L5, R1, R2, L2, L1, L2, R2, L2, R1, L5, L3, L4, L3, L4, L2, L5, L5, R2, L3, L4, R4, R4, R5, L4, L2, R4, L5, R3, R1, L1, R3, L2, R2, R1, R5, L4, R5, L3, R2, R3, R1, R4, L4, R1, R3, L5, L1, L3, R2, R1, R4, L4, R3, L3, R3, R2, L3, L3, R4, L2, R4, L3, L4, R5, R1, L1, R5, R3, R1, R3, R4, L1, R4, R3, R1, L5, L5, L4, R4, R3, L2, R1, R5, L3, R4, R5, L4, L5, R2\""
   ]
  },
  {
   "cell_type": "code",
   "execution_count": 63,
   "metadata": {
    "collapsed": false
   },
   "outputs": [
    {
     "name": "stdout",
     "output_type": "stream",
     "text": [
      "Res: 353\n"
     ]
    }
   ],
   "source": [
    "from __future__ import print_function\n",
    "def countblocks(arr,pos,dirr):\n",
    "    if not arr:\n",
    "        return pos    \n",
    "    newdir = dirr * 1j if arr[0][0] == \"L\" else dirr * -1j\n",
    "    newpos = pos + newdir * int(arr[0][1:])\n",
    "    return countblocks(arr[1:],newpos,newdir)\n",
    "\n",
    "arr = aocinput.split(\", \")\n",
    "pos = countblocks(arr,0+0j,0+1j)\n",
    "res = int(abs(pos.real) + abs(pos.imag))\n",
    "print(\"Res:\",res)"
   ]
  },
  {
   "cell_type": "markdown",
   "metadata": {},
   "source": [
    "## Psuedo\n",
    "input = \"R2, L2, L5...\"\n",
    "arr = input split (\", \")\n",
    "position is 0 + i   (imaginary unit) aka (0,0) and position is 0  + 1i    (0,1)\n",
    "\n",
    "if the array is empty, we've done all steps, return the position\n",
    "\n",
    "our new direction is *= 1j   (left on the i unit clock)  if the letter is L, else it is *= -1j \n",
    "\n",
    "our position is our current position, plus our new direction multiplied by the length  (second part of the input element)\n",
    "\n",
    "redo this until we're out of steps\n",
    "\n",
    "we then take the absolute value of the real part of our pos added to the absolute value of our imaginary part"
   ]
  },
  {
   "cell_type": "markdown",
   "metadata": {},
   "source": [
    "## Part 2"
   ]
  },
  {
   "cell_type": "code",
   "execution_count": 67,
   "metadata": {
    "collapsed": false
   },
   "outputs": [
    {
     "name": "stdout",
     "output_type": "stream",
     "text": [
      "Pos: (145+7j)\n",
      "Res: 152\n"
     ]
    }
   ],
   "source": [
    "from __future__ import print_function\n",
    "import numpy as np\n",
    "g = np.ndarray((2000,2000))\n",
    "g[0,0] = 1\n",
    "def countblocks(arr,pos,dirr):\n",
    "    newdir = dirr * 1j if arr[0][0] == \"L\" else dirr * -1j\n",
    "    steps = int(arr[0][1:])\n",
    "    for i in range(0,steps):\n",
    "        pos += newdir \n",
    "        g[int(pos.real)][int(pos.imag)] += 1\n",
    "        if g[int(pos.real)][int(pos.imag)] == 2:\n",
    "            return pos\n",
    "    return countblocks(arr[1:],pos,newdir)\n",
    "\n",
    "arr = aocinput.split(\", \")\n",
    "pos = countblocks(arr,0+0j,0+1j)\n",
    "res = int(abs(pos.real) + abs(pos.imag))\n",
    "print(\"Res:\",res)"
   ]
  }
 ],
 "metadata": {
  "kernelspec": {
   "display_name": "Python 2",
   "language": "python",
   "name": "python2"
  },
  "language_info": {
   "codemirror_mode": {
    "name": "ipython",
    "version": 2
   },
   "file_extension": ".py",
   "mimetype": "text/x-python",
   "name": "python",
   "nbconvert_exporter": "python",
   "pygments_lexer": "ipython2",
   "version": "2.7.6"
  }
 },
 "nbformat": 4,
 "nbformat_minor": 1
}
